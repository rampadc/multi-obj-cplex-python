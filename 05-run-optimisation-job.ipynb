{
 "cells": [
  {
   "cell_type": "markdown",
   "metadata": {},
   "source": [
    "# Run a job to get optimisation results"
   ]
  },
  {
   "cell_type": "markdown",
   "metadata": {},
   "source": [
    "## Configure Watson Machine Learning client"
   ]
  },
  {
   "cell_type": "code",
   "execution_count": 1,
   "metadata": {},
   "outputs": [],
   "source": [
    "# Config from previous deployment\n",
    "deployment_uid = '541cc38c-f63c-4319-b45f-afde3ccef771'\n",
    "space_uid = 'ba8c7337-02aa-4048-96fd-ffdd2ab82e76'"
   ]
  },
  {
   "cell_type": "code",
   "execution_count": 2,
   "metadata": {},
   "outputs": [
    {
     "name": "stdout",
     "output_type": "stream",
     "text": [
      "1.0.45\n"
     ]
    }
   ],
   "source": [
    "## Create a WML v4 client\n",
    "from ibm_watson_machine_learning import APIClient\n",
    "\n",
    "wml_credentials = {\n",
    "      \"apikey\": \"<api key>\",\n",
    "      \"url\": \"https://us-south.ml.cloud.ibm.com\"\n",
    "}\n",
    "\n",
    "client = APIClient(wml_credentials)\n",
    "print(client.version)"
   ]
  },
  {
   "cell_type": "code",
   "execution_count": 3,
   "metadata": {},
   "outputs": [
    {
     "data": {
      "text/plain": [
       "'SUCCESS'"
      ]
     },
     "execution_count": 3,
     "metadata": {},
     "output_type": "execute_result"
    }
   ],
   "source": [
    "# Set client's default space\n",
    "client.set.default_space(space_uid)"
   ]
  },
  {
   "cell_type": "markdown",
   "metadata": {},
   "source": [
    "## Prepare input data"
   ]
  },
  {
   "cell_type": "code",
   "execution_count": 4,
   "metadata": {},
   "outputs": [
    {
     "name": "stdout",
     "output_type": "stream",
     "text": [
      "   axe_strength  lc_strength  ma_strength  build_time_limit_seconds\n",
      "0             1            1            1                   2592000\n"
     ]
    }
   ],
   "source": [
    "import pandas as pd \n",
    "  \n",
    "# initialize list of lists \n",
    "input_params = pd.DataFrame([{\"axe_strength\": 1, \"lc_strength\": 1, \"ma_strength\": 1, \"build_time_limit_seconds\": 2_592_000}])\n",
    "print(input_params)"
   ]
  },
  {
   "cell_type": "markdown",
   "metadata": {},
   "source": [
    "## Create optimisation job"
   ]
  },
  {
   "cell_type": "code",
   "execution_count": 5,
   "metadata": {},
   "outputs": [
    {
     "name": "stdout",
     "output_type": "stream",
     "text": [
      "75ffcc3e-8e50-4773-bed8-a55c46fe2d78\n"
     ]
    }
   ],
   "source": [
    "# Prepare inputs and outputs expectations for solver\n",
    "\n",
    "# Using inline tabular data\n",
    "# https://dataplatform.cloud.ibm.com/docs/content/DO/WML_Deployment/ModelIODataDefn.html?context=wdp&audience=wdp\n",
    "solve_payload = {\n",
    "    client.deployments.DecisionOptimizationMetaNames.INPUT_DATA: [{\n",
    "      \"id\":\"params.csv\", # This is required by my model\n",
    "      \"values\" : input_params\n",
    "    }],\n",
    "    client.deployments.DecisionOptimizationMetaNames.OUTPUT_DATA: [{\n",
    "        \"id\":\".*\\.csv\" # My model is configured to output CSVs for results\n",
    "    }]\n",
    "}\n",
    "\n",
    "job_details = client.deployments.create_job(deployment_uid, solve_payload)\n",
    "job_uid = client.deployments.get_job_uid(job_details)\n",
    "\n",
    "print(job_uid)"
   ]
  },
  {
   "cell_type": "markdown",
   "metadata": {},
   "source": [
    "## Wait for job to complete"
   ]
  },
  {
   "cell_type": "code",
   "execution_count": 6,
   "metadata": {},
   "outputs": [
    {
     "name": "stdout",
     "output_type": "stream",
     "text": [
      "queued...\n",
      "completed\n"
     ]
    }
   ],
   "source": [
    "# Job can take a while to run - a machine with CPLEX needs to start first\n",
    "from time import sleep\n",
    "\n",
    "while job_details['entity']['decision_optimization']['status']['state'] not in ['completed', 'failed', 'canceled']:\n",
    "    print(job_details['entity']['decision_optimization']['status']['state'] + '...')\n",
    "    sleep(5)\n",
    "    job_details=client.deployments.get_job_details(job_uid)\n",
    "\n",
    "print( job_details['entity']['decision_optimization']['status']['state'])"
   ]
  },
  {
   "cell_type": "markdown",
   "metadata": {},
   "source": [
    "## Print results"
   ]
  },
  {
   "cell_type": "code",
   "execution_count": 7,
   "metadata": {},
   "outputs": [
    {
     "name": "stdout",
     "output_type": "stream",
     "text": [
      "[{'fields': ['Name', 'Value'],\n",
      "  'id': 'kpis.csv',\n",
      "  'values': [['Total negative attack strength', -682455],\n",
      "             ['Barracks build time', 1799760],\n",
      "             ['Hall of Order build time', 133200]]},\n",
      " {'fields': ['axe',\n",
      "             'food',\n",
      "             'lc',\n",
      "             'ma',\n",
      "             'ram',\n",
      "             'serk',\n",
      "             'time_in_days',\n",
      "             'time_in_seconds'],\n",
      "  'id': 'solution.csv',\n",
      "  'values': [[4814, 20596, 1664, 1442, 250, 111, 22.39, 1934400],\n",
      "             [4814, 20596, 1664, 1442, 250, 111, 22.39, 1934400],\n",
      "             [4985, 20596, 1725, 1491, 250, 1, 21.55, 1861800],\n",
      "             [4978, 20580, 1724, 1490, 250, 1, 21.53, 1860360],\n",
      "             [4807, 20580, 1663, 1441, 250, 111, 22.37, 1932960],\n",
      "             [4807, 20580, 1663, 1441, 250, 111, 22.37, 1932960]]}]\n"
     ]
    }
   ],
   "source": [
    "from pprint import pprint\n",
    "\n",
    "pprint(job_details['entity']['decision_optimization']['output_data'])"
   ]
  },
  {
   "cell_type": "markdown",
   "metadata": {},
   "source": [
    "### Full output"
   ]
  },
  {
   "cell_type": "code",
   "execution_count": 8,
   "metadata": {},
   "outputs": [
    {
     "data": {
      "text/plain": [
       "{'entity': {'decision_optimization': {'input_data': [{'fields': ['axe_strength',\n",
       "      'lc_strength',\n",
       "      'ma_strength',\n",
       "      'build_time_limit_seconds'],\n",
       "     'id': 'params.csv',\n",
       "     'values': [[1, 1, 1, 2592000]]}],\n",
       "   'output_data': [{'fields': ['Name', 'Value'],\n",
       "     'id': 'kpis.csv',\n",
       "     'values': [['Total negative attack strength', -682455],\n",
       "      ['Barracks build time', 1799760],\n",
       "      ['Hall of Order build time', 133200]]},\n",
       "    {'fields': ['axe',\n",
       "      'food',\n",
       "      'lc',\n",
       "      'ma',\n",
       "      'ram',\n",
       "      'serk',\n",
       "      'time_in_days',\n",
       "      'time_in_seconds'],\n",
       "     'id': 'solution.csv',\n",
       "     'values': [[4814, 20596, 1664, 1442, 250, 111, 22.39, 1934400],\n",
       "      [4814, 20596, 1664, 1442, 250, 111, 22.39, 1934400],\n",
       "      [4985, 20596, 1725, 1491, 250, 1, 21.55, 1861800],\n",
       "      [4978, 20580, 1724, 1490, 250, 1, 21.53, 1860360],\n",
       "      [4807, 20580, 1663, 1441, 250, 111, 22.37, 1932960],\n",
       "      [4807, 20580, 1663, 1441, 250, 111, 22.37, 1932960]]}],\n",
       "   'output_data_references': [],\n",
       "   'solve_state': {'details': {'KPI.Barracks build time': '1799760.0',\n",
       "     'KPI.Hall of Order build time': '133200.0',\n",
       "     'KPI.Total negative attack strength': '-682455.0',\n",
       "     'KPI._time': '0.047460079193115234',\n",
       "     'MODEL_DETAIL_BOOLEAN_VARS': '0',\n",
       "     'MODEL_DETAIL_CONSTRAINTS': '13',\n",
       "     'MODEL_DETAIL_CONTINUOUS_VARS': '0',\n",
       "     'MODEL_DETAIL_INTEGER_VARS': '5',\n",
       "     'MODEL_DETAIL_KPIS': '[\"Total negative attack strength\", \"Barracks build time\", \"Hall of Order build time\"]',\n",
       "     'MODEL_DETAIL_NONZEROS': '51',\n",
       "     'MODEL_DETAIL_OBJECTIVE_SENSE': 'minimize',\n",
       "     'MODEL_DETAIL_TYPE': 'MILP',\n",
       "     'PROGRESS_BEST_OBJECTIVE': '-1e+75',\n",
       "     'PROGRESS_CURRENT_OBJECTIVE': '1799760.0',\n",
       "     'PROGRESS_GAP': '5.556296395074899e+68',\n",
       "     'STAT.cplex.modelType': 'MILP',\n",
       "     'STAT.cplex.size.booleanVariables': '0',\n",
       "     'STAT.cplex.size.constraints': '13',\n",
       "     'STAT.cplex.size.continousVariables': '0',\n",
       "     'STAT.cplex.size.integerVariables': '5',\n",
       "     'STAT.cplex.size.linearConstraints': '13',\n",
       "     'STAT.cplex.size.quadraticConstraints': '0',\n",
       "     'STAT.cplex.size.variables': '5'},\n",
       "    'solve_status': 'optimal_solution'},\n",
       "   'status': {'completed_at': '2021-01-07T10:12:55.383Z',\n",
       "    'running_at': '2021-01-07T10:12:54.356Z',\n",
       "    'state': 'completed'}},\n",
       "  'deployment': {'id': '541cc38c-f63c-4319-b45f-afde3ccef771'},\n",
       "  'platform_job': {'job_id': '2393d379-e3e1-4034-9945-65c681322d91',\n",
       "   'run_id': '2947be39-84d9-477d-bfe0-16449a7db0a1'}},\n",
       " 'metadata': {'created_at': '2021-01-07T10:12:52.973Z',\n",
       "  'id': '75ffcc3e-8e50-4773-bed8-a55c46fe2d78',\n",
       "  'modified_at': '2021-01-07T10:12:56.225Z',\n",
       "  'name': 'name_b3f04bd8-b231-4be6-ad4c-316f5f289763',\n",
       "  'space_id': 'ba8c7337-02aa-4048-96fd-ffdd2ab82e76'}}"
      ]
     },
     "execution_count": 8,
     "metadata": {},
     "output_type": "execute_result"
    }
   ],
   "source": [
    "job_details"
   ]
  }
 ],
 "metadata": {
  "kernelspec": {
   "display_name": "Python 3",
   "language": "python",
   "name": "python3"
  },
  "language_info": {
   "codemirror_mode": {
    "name": "ipython",
    "version": 3
   },
   "file_extension": ".py",
   "mimetype": "text/x-python",
   "name": "python",
   "nbconvert_exporter": "python",
   "pygments_lexer": "ipython3",
   "version": "3.8.7"
  }
 },
 "nbformat": 4,
 "nbformat_minor": 4
}
