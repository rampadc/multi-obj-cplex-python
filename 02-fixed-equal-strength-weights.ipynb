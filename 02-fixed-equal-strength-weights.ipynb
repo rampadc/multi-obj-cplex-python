{
 "cells": [
  {
   "cell_type": "markdown",
   "metadata": {},
   "source": [
    "## Setup\n",
    "\n",
    "Requirements:\n",
    "\n",
    "- Python 3.8\n",
    "- CPLEX Studio 20.1.0\n",
    "- docplex library configured - only works with Python 3.8"
   ]
  },
  {
   "cell_type": "markdown",
   "metadata": {},
   "source": [
    "## Import dependencies"
   ]
  },
  {
   "cell_type": "code",
   "execution_count": 1,
   "metadata": {},
   "outputs": [],
   "source": [
    "# namedtuple creates a tuple with a name\n",
    "# https://docs.python.org/3/library/collections.html#collections.namedtuple\n",
    "from collections import namedtuple\n",
    "\n",
    "# Model: https://ibmdecisionoptimization.github.io/docplex-doc/mp/docplex.mp.model.html\n",
    "# Model is a class to embed modeling objects\n",
    "from docplex.mp.model import Model\n",
    "# LinearExpr contains the negate() function to create negate a linear expression\n",
    "from docplex.mp.linear import LinearExpr\n",
    "\n",
    "# used for normalisation of vectors\n",
    "import numpy as np\n",
    "\n",
    "# get all possible combinations for staticLex\n",
    "import itertools"
   ]
  },
  {
   "cell_type": "markdown",
   "metadata": {},
   "source": [
    "## Initialise Data"
   ]
  },
  {
   "cell_type": "code",
   "execution_count": 2,
   "metadata": {},
   "outputs": [],
   "source": [
    "# Initialise data\n",
    "Unit = namedtuple('Unit', ['name', 'att_strength', 'recruit_time_in_seconds', 'food'])\n",
    "\n",
    "axe_unit = Unit('axe', 45, 90, 1)\n",
    "lc_unit = Unit('lc', 130, 360, 4)\n",
    "ma_unit = Unit('ma', 150, 450, 5)\n",
    "serk_unit = Unit('serk', 300, 1200, 6)\n",
    "ram_unit = Unit('ram', 2, 480, 5)\n",
    "\n",
    "units = [axe_unit, lc_unit, ma_unit, serk_unit, ram_unit]\n",
    "barracks_units = [axe_unit, lc_unit, ma_unit, ram_unit]\n",
    "hoo_units = [serk_unit]"
   ]
  },
  {
   "cell_type": "markdown",
   "metadata": {},
   "source": [
    "## Start a new model"
   ]
  },
  {
   "cell_type": "code",
   "execution_count": 3,
   "metadata": {},
   "outputs": [],
   "source": [
    "# Alternatively, I can write\n",
    "# with Model() as mdl:\n",
    "#   ... # do things here\n",
    "m = Model(name = 'Max strength unit time')"
   ]
  },
  {
   "cell_type": "markdown",
   "metadata": {},
   "source": [
    "### Decision variables"
   ]
  },
  {
   "cell_type": "code",
   "execution_count": 4,
   "metadata": {},
   "outputs": [
    {
     "data": {
      "text/plain": [
       "{'axe': docplex.mp.Var(type=I,name='number_of_units_axe'),\n",
       " 'lc': docplex.mp.Var(type=I,name='number_of_units_lc'),\n",
       " 'ma': docplex.mp.Var(type=I,name='number_of_units_ma'),\n",
       " 'serk': docplex.mp.Var(type=I,name='number_of_units_serk'),\n",
       " 'ram': docplex.mp.Var(type=I,name='number_of_units_ram')}"
      ]
     },
     "execution_count": 4,
     "metadata": {},
     "output_type": "execute_result"
    }
   ],
   "source": [
    "number_of_units = m.integer_var_dict(\n",
    "    [u.name for u in units], name = 'number_of_units'\n",
    ")\n",
    "number_of_units"
   ]
  },
  {
   "cell_type": "markdown",
   "metadata": {},
   "source": [
    "### Decision expressions"
   ]
  },
  {
   "cell_type": "code",
   "execution_count": 5,
   "metadata": {},
   "outputs": [],
   "source": [
    "m.barracks_build_time = m.sum([number_of_units[u.name] * u.recruit_time_in_seconds for u in barracks_units])\n",
    "m.hoo_build_time = m.sum([number_of_units[u.name] * u.recruit_time_in_seconds for u in hoo_units])"
   ]
  },
  {
   "cell_type": "code",
   "execution_count": 6,
   "metadata": {},
   "outputs": [
    {
     "data": {
      "text/plain": [
       "docplex.mp.LinearExpr(-45number_of_units_axe-130number_of_units_lc-150number_of_units_ma-300number_of_units_serk-2number_of_units_ram)"
      ]
     },
     "execution_count": 6,
     "metadata": {},
     "output_type": "execute_result"
    }
   ],
   "source": [
    "m.totalNegativeAttack = LinearExpr.negate(m.sum([number_of_units[u.name] * u.att_strength for u in units]))\n",
    "m.totalNegativeAttack"
   ]
  },
  {
   "cell_type": "code",
   "execution_count": 7,
   "metadata": {},
   "outputs": [
    {
     "data": {
      "text/plain": [
       "docplex.mp.LinearExpr(number_of_units_axe+4number_of_units_lc+5number_of_units_ma+6number_of_units_serk+5number_of_units_ram)"
      ]
     },
     "execution_count": 7,
     "metadata": {},
     "output_type": "execute_result"
    }
   ],
   "source": [
    "m.totalFood = m.sum([number_of_units[u.name] * u.food for u in units])\n",
    "m.totalFood"
   ]
  },
  {
   "cell_type": "markdown",
   "metadata": {},
   "source": [
    "### Constraints\n",
    "\n",
    "From an error I got when trying to add constraints: `Only <=, ==, >= are allowed`"
   ]
  },
  {
   "cell_type": "code",
   "execution_count": 8,
   "metadata": {},
   "outputs": [
    {
     "data": {
      "text/plain": [
       "[docplex.mp.LinearConstraint[](number_of_units_axe+4number_of_units_lc+5number_of_units_ma+6number_of_units_serk+5number_of_units_ram,LE,20596),\n",
       " docplex.mp.LinearConstraint[](number_of_units_axe+4number_of_units_lc+5number_of_units_ma+6number_of_units_serk+5number_of_units_ram,GE,20580)]"
      ]
     },
     "execution_count": 8,
     "metadata": {},
     "output_type": "execute_result"
    }
   ],
   "source": [
    "ct_food_no_church = m.add_constraints([m.totalFood <= 20596, m.totalFood >= 20580])\n",
    "ct_food_no_church"
   ]
  },
  {
   "cell_type": "code",
   "execution_count": 9,
   "metadata": {},
   "outputs": [
    {
     "data": {
      "text/plain": [
       "docplex.mp.LinearConstraint[](number_of_units_ram,GE,250)"
      ]
     },
     "execution_count": 9,
     "metadata": {},
     "output_type": "execute_result"
    }
   ],
   "source": [
    "ct_must_have_rams = m.add_constraint(number_of_units['ram'] >= 250)\n",
    "ct_must_have_rams"
   ]
  },
  {
   "cell_type": "code",
   "execution_count": 10,
   "metadata": {},
   "outputs": [
    {
     "name": "stdout",
     "output_type": "stream",
     "text": [
      "[docplex.mp.LinearConstraint[](90number_of_units_axe+360number_of_units_lc+450number_of_units_ma+480number_of_units_ram,GE,1), docplex.mp.LinearConstraint[](90number_of_units_axe+360number_of_units_lc+450number_of_units_ma+480number_of_units_ram,LE,2592000)]\n",
      "[docplex.mp.LinearConstraint[](1200number_of_units_serk,GE,1), docplex.mp.LinearConstraint[](1200number_of_units_serk,LE,2592000)]\n"
     ]
    }
   ],
   "source": [
    "# Assuming a month of 30 days, https://www.quora.com/How-many-seconds-are-in-a-month\n",
    "seconds_per_month = 2_592_000\n",
    "ct_build_time_less_than_4_weeks_barracks = m.add_constraints([1 <= m.barracks_build_time, (m.barracks_build_time <= seconds_per_month)])\n",
    "ct_build_time_less_than_4_weeks_hoo = m.add_constraints([1 <= m.hoo_build_time, (m.hoo_build_time <= seconds_per_month)])\n",
    "print(ct_build_time_less_than_4_weeks_barracks)\n",
    "print(ct_build_time_less_than_4_weeks_hoo)"
   ]
  },
  {
   "cell_type": "code",
   "execution_count": 11,
   "metadata": {},
   "outputs": [],
   "source": [
    "# External weights will have values between 0 and 1\n",
    "# 0 means the user does not want to recruit that unit type\n",
    "# 1 means the user definitely want to recruit that unit type\n",
    "# If the weights are 1, 1, 1 then the strengths are split equally between 3 unit types\n",
    "# If the weights are 0, 1, 1 then no axe will be recruited\n",
    "ext_attack_strength_weights = np.array([1, 1, 1])\n",
    "strength_ratios = ext_attack_strength_weights / np.sum(ext_attack_strength_weights)"
   ]
  },
  {
   "cell_type": "code",
   "execution_count": 12,
   "metadata": {},
   "outputs": [
    {
     "name": "stdout",
     "output_type": "stream",
     "text": [
      "[docplex.mp.LinearConstraint[](45number_of_units_axe,LE,15number_of_units_axe+43.333number_of_units_lc+50number_of_units_ma+100number_of_units_serk+0.667number_of_units_ram), docplex.mp.LinearConstraint[](45number_of_units_axe,GE,14.250number_of_units_axe+41.167number_of_units_lc+47.500number_of_units_ma+95number_of_units_serk+0.633number_of_units_ram)]\n",
      "[docplex.mp.LinearConstraint[](130number_of_units_lc,LE,15number_of_units_axe+43.333number_of_units_lc+50number_of_units_ma+100number_of_units_serk+0.667number_of_units_ram), docplex.mp.LinearConstraint[](130number_of_units_lc,GE,14.250number_of_units_axe+41.167number_of_units_lc+47.500number_of_units_ma+95number_of_units_serk+0.633number_of_units_ram)]\n",
      "[docplex.mp.LinearConstraint[](150number_of_units_ma,LE,15number_of_units_axe+43.333number_of_units_lc+50number_of_units_ma+100number_of_units_serk+0.667number_of_units_ram), docplex.mp.LinearConstraint[](150number_of_units_ma,GE,14.250number_of_units_axe+41.167number_of_units_lc+47.500number_of_units_ma+95number_of_units_serk+0.633number_of_units_ram)]\n"
     ]
    }
   ],
   "source": [
    "# Provide a range for the divided strength constraints\n",
    "lower_bound_cap = 0.95\n",
    "\n",
    "ct_axe_number = m.add_constraints([\n",
    "    number_of_units['axe'] * axe_unit.att_strength <= -(m.totalNegativeAttack * strength_ratios[0]),\n",
    "    number_of_units['axe'] * axe_unit.att_strength >= -(m.totalNegativeAttack * strength_ratios[0]) * lower_bound_cap\n",
    "])\n",
    "print(ct_axe_number)\n",
    "\n",
    "ct_axe_number = m.add_constraints([\n",
    "    number_of_units['lc'] * lc_unit.att_strength <= -(m.totalNegativeAttack * strength_ratios[1]),\n",
    "    number_of_units['lc'] * lc_unit.att_strength >= -(m.totalNegativeAttack * strength_ratios[1]) * lower_bound_cap\n",
    "])\n",
    "print(ct_axe_number)\n",
    "\n",
    "ct_axe_number = m.add_constraints([\n",
    "    number_of_units['ma'] * ma_unit.att_strength <= -(m.totalNegativeAttack * strength_ratios[2]),\n",
    "    number_of_units['ma'] * ma_unit.att_strength >= -(m.totalNegativeAttack * strength_ratios[2]) * lower_bound_cap\n",
    "])\n",
    "print(ct_axe_number)"
   ]
  },
  {
   "cell_type": "markdown",
   "metadata": {},
   "source": [
    "### Objectives"
   ]
  },
  {
   "cell_type": "code",
   "execution_count": 13,
   "metadata": {},
   "outputs": [
    {
     "data": {
      "text/plain": [
       "DecisionKPI(name=Hall of Order build time,expr=1200number_of_units_serk)"
      ]
     },
     "execution_count": 13,
     "metadata": {},
     "output_type": "execute_result"
    }
   ],
   "source": [
    "m.add_kpi(m.totalNegativeAttack, \"Total negative attack strength\")\n",
    "m.add_kpi(m.barracks_build_time, \"Barracks build time\")\n",
    "m.add_kpi(m.hoo_build_time, \"Hall of Order build time\")"
   ]
  },
  {
   "cell_type": "markdown",
   "metadata": {},
   "source": [
    "### Solve and print results\n",
    "\n",
    "It doesn't look like docplex.mp supports staticLexFull."
   ]
  },
  {
   "cell_type": "code",
   "execution_count": 14,
   "metadata": {},
   "outputs": [
    {
     "data": {
      "text/plain": [
       "[['totalNegativeAttack', 'hoo_build_time', 'barracks_build_time'],\n",
       " ['totalNegativeAttack', 'barracks_build_time', 'hoo_build_time'],\n",
       " ['hoo_build_time', 'totalNegativeAttack', 'barracks_build_time'],\n",
       " ['hoo_build_time', 'barracks_build_time', 'totalNegativeAttack'],\n",
       " ['barracks_build_time', 'totalNegativeAttack', 'hoo_build_time'],\n",
       " ['barracks_build_time', 'hoo_build_time', 'totalNegativeAttack']]"
      ]
     },
     "execution_count": 14,
     "metadata": {},
     "output_type": "execute_result"
    }
   ],
   "source": [
    "kpis_permutations = itertools.permutations([m.totalNegativeAttack, m.hoo_build_time, m.barracks_build_time], 3)\n",
    "kpis_permutations = list(kpis_permutations)\n",
    "\n",
    "\n",
    "# pretty names for results\n",
    "kpis_permutations_names = []\n",
    "for permutation in kpis_permutations:\n",
    "    name = []\n",
    "    for kpi in permutation:\n",
    "        if kpi is m.totalNegativeAttack:\n",
    "            name.append('totalNegativeAttack')\n",
    "        if kpi is m.hoo_build_time:\n",
    "            name.append('hoo_build_time')\n",
    "        if kpi is m.barracks_build_time:\n",
    "            name.append('barracks_build_time')\n",
    "    kpis_permutations_names.append(name)\n",
    "kpis_permutations_names"
   ]
  },
  {
   "cell_type": "code",
   "execution_count": 15,
   "metadata": {},
   "outputs": [
    {
     "name": "stdout",
     "output_type": "stream",
     "text": [
      "strength ratio: [0.33333333 0.33333333 0.33333333]\n",
      "\n",
      "['totalNegativeAttack', 'hoo_build_time', 'barracks_build_time'] - strength: 683050.0, food: 20596.0\n",
      "axe: 4814.0, lc: 1664.0, ma: 1442.0, serk: 111.0, ram: 250.0, food: 20596.0, time: 22.39 days\n",
      " \n",
      "['totalNegativeAttack', 'barracks_build_time', 'hoo_build_time'] - strength: 683050.0, food: 20596.0\n",
      "axe: 4814.0, lc: 1664.0, ma: 1442.0, serk: 111.0, ram: 250.0, food: 20596.0, time: 22.39 days\n",
      " \n",
      "['hoo_build_time', 'totalNegativeAttack', 'barracks_build_time'] - strength: 673025.0, food: 20596.0\n",
      "axe: 4985.0, lc: 1725.0, ma: 1491.0, serk: 1.0, ram: 250.0, food: 20596.0, time: 21.55 days\n",
      " \n",
      "['hoo_build_time', 'barracks_build_time', 'totalNegativeAttack'] - strength: 672405.0, food: 20580.0\n",
      "axe: 4979.0, lc: 1720.0, ma: 1493.0, serk: 1.0, ram: 250.0, food: 20580.0, time: 21.53 days\n",
      " \n",
      "['barracks_build_time', 'totalNegativeAttack', 'hoo_build_time'] - strength: 682455.0, food: 20580.0\n",
      "axe: 4807.0, lc: 1663.0, ma: 1441.0, serk: 111.0, ram: 250.0, food: 20580.0, time: 22.37 days\n",
      " \n",
      "['barracks_build_time', 'hoo_build_time', 'totalNegativeAttack'] - strength: 682455.0, food: 20580.0\n",
      "axe: 4807.0, lc: 1663.0, ma: 1441.0, serk: 111.0, ram: 250.0, food: 20580.0, time: 22.37 days\n",
      " \n"
     ]
    }
   ],
   "source": [
    "print(f\"strength ratio: {strength_ratios}\\n\")\n",
    "for idx, kpis in enumerate(kpis_permutations):\n",
    "    m.minimize_static_lex(kpis)\n",
    "    m.solve()\n",
    "\n",
    "    print(f\"{kpis_permutations_names[idx]} - strength: {-m.totalNegativeAttack.solution_value}, food: {m.totalFood.solution_value}\")\n",
    "    print(\n",
    "        f\"axe: {number_of_units['axe'].solution_value}\"\n",
    "        f\", lc: {number_of_units['lc'].solution_value}\"\n",
    "        f\", ma: {number_of_units['ma'].solution_value}\"\n",
    "        f\", serk: {number_of_units['serk'].solution_value}\"\n",
    "        f\", ram: {number_of_units['ram'].solution_value}\"\n",
    "        f\", food: {sum([number_of_units[u.name].solution_value * u.food for u in units])}\"\n",
    "        f\", time: {round(sum([number_of_units[u.name].solution_value * u.recruit_time_in_seconds for u in units]) / (24 * 3600), 2)} days\"\n",
    "    )\n",
    "    print(' ')"
   ]
  },
  {
   "cell_type": "code",
   "execution_count": null,
   "metadata": {},
   "outputs": [],
   "source": []
  }
 ],
 "metadata": {
  "kernelspec": {
   "display_name": "Python 3",
   "language": "python",
   "name": "python3"
  },
  "language_info": {
   "codemirror_mode": {
    "name": "ipython",
    "version": 3
   },
   "file_extension": ".py",
   "mimetype": "text/x-python",
   "name": "python",
   "nbconvert_exporter": "python",
   "pygments_lexer": "ipython3",
   "version": "3.8.7"
  }
 },
 "nbformat": 4,
 "nbformat_minor": 4
}
