{
 "cells": [
  {
   "cell_type": "markdown",
   "metadata": {},
   "source": [
    "## Setup\n",
    "\n",
    "Requirements:\n",
    "\n",
    "- Python 3.8\n",
    "- CPLEX Studio 20.1.0\n",
    "- docplex library configured - only works with Python 3.8"
   ]
  },
  {
   "cell_type": "markdown",
   "metadata": {},
   "source": [
    "## Import dependencies"
   ]
  },
  {
   "cell_type": "code",
   "execution_count": 1,
   "metadata": {},
   "outputs": [],
   "source": [
    "# namedtuple creates a tuple with a name\n",
    "# https://docs.python.org/3/library/collections.html#collections.namedtuple\n",
    "from collections import namedtuple\n",
    "\n",
    "# Model: https://ibmdecisionoptimization.github.io/docplex-doc/mp/docplex.mp.model.html\n",
    "# Model is a class to embed modeling objects\n",
    "from docplex.mp.model import Model\n",
    "# LinearExpr contains the negate() function to create negate a linear expression\n",
    "from docplex.mp.linear import LinearExpr"
   ]
  },
  {
   "cell_type": "markdown",
   "metadata": {},
   "source": [
    "## Initialise Data"
   ]
  },
  {
   "cell_type": "code",
   "execution_count": 2,
   "metadata": {},
   "outputs": [],
   "source": [
    "# Initialise data\n",
    "Unit = namedtuple('Unit', ['name', 'att_strength', 'recruit_time_in_seconds', 'food'])\n",
    "units = [\n",
    "    Unit('axe', 45, 90, 1),\n",
    "    Unit('lc', 130, 360, 4),\n",
    "    Unit('ma', 150, 450, 5),\n",
    "    Unit('serk', 300, 1200, 6),\n",
    "    Unit('ram', 2, 480, 5),\n",
    "]"
   ]
  },
  {
   "cell_type": "markdown",
   "metadata": {},
   "source": [
    "## Start a new model"
   ]
  },
  {
   "cell_type": "code",
   "execution_count": 3,
   "metadata": {},
   "outputs": [],
   "source": [
    "# Alternatively, I can write\n",
    "# with Model() as mdl:\n",
    "#   ... # do things here\n",
    "m = Model(name = 'Max strength unit time')"
   ]
  },
  {
   "cell_type": "markdown",
   "metadata": {},
   "source": [
    "### Decision variables"
   ]
  },
  {
   "cell_type": "code",
   "execution_count": 4,
   "metadata": {},
   "outputs": [
    {
     "data": {
      "text/plain": [
       "{'axe': docplex.mp.Var(type=I,name='number_of_units_axe'),\n",
       " 'lc': docplex.mp.Var(type=I,name='number_of_units_lc'),\n",
       " 'ma': docplex.mp.Var(type=I,name='number_of_units_ma'),\n",
       " 'serk': docplex.mp.Var(type=I,name='number_of_units_serk'),\n",
       " 'ram': docplex.mp.Var(type=I,name='number_of_units_ram')}"
      ]
     },
     "execution_count": 4,
     "metadata": {},
     "output_type": "execute_result"
    }
   ],
   "source": [
    "number_of_units = m.integer_var_dict(\n",
    "    [u.name for u in units], name = 'number_of_units'\n",
    ")\n",
    "number_of_units"
   ]
  },
  {
   "cell_type": "markdown",
   "metadata": {},
   "source": [
    "### Decision expressions"
   ]
  },
  {
   "cell_type": "code",
   "execution_count": 5,
   "metadata": {},
   "outputs": [
    {
     "data": {
      "text/plain": [
       "docplex.mp.LinearExpr(90number_of_units_axe+360number_of_units_lc+450number_of_units_ma+1200number_of_units_serk+480number_of_units_ram)"
      ]
     },
     "execution_count": 5,
     "metadata": {},
     "output_type": "execute_result"
    }
   ],
   "source": [
    "m.totalBuildTime = m.sum([number_of_units[u.name] * u.recruit_time_in_seconds for u in units])\n",
    "m.totalBuildTime"
   ]
  },
  {
   "cell_type": "code",
   "execution_count": 6,
   "metadata": {},
   "outputs": [
    {
     "data": {
      "text/plain": [
       "docplex.mp.LinearExpr(-45number_of_units_axe-130number_of_units_lc-150number_of_units_ma-300number_of_units_serk-2number_of_units_ram)"
      ]
     },
     "execution_count": 6,
     "metadata": {},
     "output_type": "execute_result"
    }
   ],
   "source": [
    "m.totalNegativeAttack = LinearExpr.negate(m.sum([number_of_units[u.name] * u.att_strength for u in units]))\n",
    "m.totalNegativeAttack"
   ]
  },
  {
   "cell_type": "code",
   "execution_count": 7,
   "metadata": {},
   "outputs": [
    {
     "data": {
      "text/plain": [
       "docplex.mp.LinearExpr(number_of_units_axe+4number_of_units_lc+5number_of_units_ma+6number_of_units_serk+5number_of_units_ram)"
      ]
     },
     "execution_count": 7,
     "metadata": {},
     "output_type": "execute_result"
    }
   ],
   "source": [
    "m.totalFood = m.sum([number_of_units[u.name] * u.food for u in units])\n",
    "m.totalFood"
   ]
  },
  {
   "cell_type": "markdown",
   "metadata": {},
   "source": [
    "### Constraints\n",
    "\n",
    "From an error I got when trying to add constraints: `Only <=, ==, >= are allowed`"
   ]
  },
  {
   "cell_type": "code",
   "execution_count": 8,
   "metadata": {},
   "outputs": [
    {
     "data": {
      "text/plain": [
       "[docplex.mp.LinearConstraint[](number_of_units_axe+4number_of_units_lc+5number_of_units_ma+6number_of_units_serk+5number_of_units_ram,LE,20596),\n",
       " docplex.mp.LinearConstraint[](number_of_units_axe+4number_of_units_lc+5number_of_units_ma+6number_of_units_serk+5number_of_units_ram,GE,20580)]"
      ]
     },
     "execution_count": 8,
     "metadata": {},
     "output_type": "execute_result"
    }
   ],
   "source": [
    "ct_food_no_church = m.add_constraints([m.totalFood <= 20596, m.totalFood >= 20580])\n",
    "ct_food_no_church"
   ]
  },
  {
   "cell_type": "code",
   "execution_count": 9,
   "metadata": {},
   "outputs": [
    {
     "data": {
      "text/plain": [
       "docplex.mp.LinearConstraint[](number_of_units_ram,GE,250)"
      ]
     },
     "execution_count": 9,
     "metadata": {},
     "output_type": "execute_result"
    }
   ],
   "source": [
    "ct_must_have_rams = m.add_constraint(number_of_units['ram'] >= 250)\n",
    "ct_must_have_rams"
   ]
  },
  {
   "cell_type": "code",
   "execution_count": 10,
   "metadata": {},
   "outputs": [
    {
     "data": {
      "text/plain": [
       "[docplex.mp.LinearConstraint[](90number_of_units_axe+360number_of_units_lc+450number_of_units_ma+1200number_of_units_serk+480number_of_units_ram,GE,1),\n",
       " docplex.mp.LinearConstraint[](90number_of_units_axe+360number_of_units_lc+450number_of_units_ma+1200number_of_units_serk+480number_of_units_ram,LE,2419200)]"
      ]
     },
     "execution_count": 10,
     "metadata": {},
     "output_type": "execute_result"
    }
   ],
   "source": [
    "# Need to modify our 0 < totalBuildTime <= 4 * 7 * 24 * 3600 to 1 <= totalBuildTime <= 4 * 7 * 24 * 3600 due to docplex limitation\n",
    "ct_build_time_less_than_4_weeks = m.add_constraints([1 <= m.totalBuildTime, (m.totalBuildTime <= 4 * 7 * 24 * 3600)])\n",
    "ct_build_time_less_than_4_weeks"
   ]
  },
  {
   "cell_type": "markdown",
   "metadata": {},
   "source": [
    "### Objectives"
   ]
  },
  {
   "cell_type": "code",
   "execution_count": 11,
   "metadata": {},
   "outputs": [
    {
     "data": {
      "text/plain": [
       "DecisionKPI(name=Total build time,expr=90number_of_units_axe+360number_of_units_lc+450number_of_units_m..)"
      ]
     },
     "execution_count": 11,
     "metadata": {},
     "output_type": "execute_result"
    }
   ],
   "source": [
    "m.add_kpi(m.totalNegativeAttack, \"Total negative attack strength\")\n",
    "m.add_kpi(m.totalBuildTime, \"Total build time\")"
   ]
  },
  {
   "cell_type": "markdown",
   "metadata": {},
   "source": [
    "### Solve\n",
    "\n",
    "It doesn't look like docplex.mp supports staticLexFull."
   ]
  },
  {
   "cell_type": "code",
   "execution_count": 12,
   "metadata": {},
   "outputs": [
    {
     "data": {
      "text/plain": [
       "docplex.mp.solution.SolveSolution(obj=-896420,values={number_of_units_ax.."
      ]
     },
     "execution_count": 12,
     "metadata": {},
     "output_type": "execute_result"
    }
   ],
   "source": [
    "m.minimize_static_lex([m.totalNegativeAttack, m.totalBuildTime])\n",
    "m.solve()"
   ]
  },
  {
   "cell_type": "markdown",
   "metadata": {},
   "source": [
    "### Print the results"
   ]
  },
  {
   "cell_type": "code",
   "execution_count": 13,
   "metadata": {},
   "outputs": [
    {
     "name": "stdout",
     "output_type": "stream",
     "text": [
      "axe: 14276.0, lc: 0, ma: 0, serk: 845.0, ram: 250.0, food: 20596.0, time: 28.0 days\n"
     ]
    }
   ],
   "source": [
    "if m.get_solve_status() == None:\n",
    "    print(\"Model is infeasible\")\n",
    "else:\n",
    "    print(\n",
    "        f\"axe: {number_of_units['axe'].solution_value}\"\n",
    "        f\", lc: {number_of_units['lc'].solution_value}\"\n",
    "        f\", ma: {number_of_units['ma'].solution_value}\"\n",
    "        f\", serk: {number_of_units['serk'].solution_value}\"\n",
    "        f\", ram: {number_of_units['ram'].solution_value}\"\n",
    "        f\", food: {sum([number_of_units[u.name].solution_value * u.food for u in units])}\"\n",
    "        f\", time: {round(sum([number_of_units[u.name].solution_value * u.recruit_time_in_seconds for u in units]) / (24 * 3600), 2)} days\"\n",
    "    )"
   ]
  }
 ],
 "metadata": {
  "kernelspec": {
   "display_name": "Python 3",
   "language": "python",
   "name": "python3"
  },
  "language_info": {
   "codemirror_mode": {
    "name": "ipython",
    "version": 3
   },
   "file_extension": ".py",
   "mimetype": "text/x-python",
   "name": "python",
   "nbconvert_exporter": "python",
   "pygments_lexer": "ipython3",
   "version": "3.8.7"
  }
 },
 "nbformat": 4,
 "nbformat_minor": 4
}
